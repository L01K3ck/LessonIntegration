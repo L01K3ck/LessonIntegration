{
 "cells": [
  {
   "cell_type": "markdown",
   "id": "2d159c1c-a7c3-47ed-a415-fcf16e3bd504",
   "metadata": {},
   "source": [
    "# Задание 1"
   ]
  },
  {
   "cell_type": "code",
   "execution_count": 2,
   "id": "7b848eaa-2589-49e8-8b95-8dff34c0a654",
   "metadata": {},
   "outputs": [
    {
     "name": "stderr",
     "output_type": "stream",
     "text": [
      "C:\\Users\\Denchik\\AppData\\Local\\Temp\\ipykernel_7696\\3851246637.py:4: IntegrationWarning: The maximum number of subdivisions (50) has been achieved.\n",
      "  If increasing the limit yields no improvement it is advised to analyze \n",
      "  the integrand in order to determine the difficulties.  If the position of a \n",
      "  local difficulty can be determined (singularity, discontinuity) one will \n",
      "  probably gain from splitting up the interval and calling the integrator \n",
      "  on the subranges.  Perhaps a special-purpose integrator should be used.\n",
      "  quad(func,0,6)\n"
     ]
    },
    {
     "data": {
      "text/plain": [
       "(2.999964948683555, 0.0009520766614606472)"
      ]
     },
     "execution_count": 2,
     "metadata": {},
     "output_type": "execute_result"
    }
   ],
   "source": [
    "from scipy.integrate import quad\n",
    "import numpy as np\n",
    "func = lambda x: np.floor(x) - 2*np.floor(x/2)\n",
    "quad(func,0,6)"
   ]
  },
  {
   "cell_type": "markdown",
   "id": "608659d9-b7cb-48a3-b0e1-290e40f365cc",
   "metadata": {},
   "source": [
    "# Задание 2"
   ]
  },
  {
   "cell_type": "code",
   "execution_count": 3,
   "id": "37b1f369-e12f-457b-bc68-ad160ff4080e",
   "metadata": {},
   "outputs": [
    {
     "data": {
      "text/plain": [
       "0.0012644892673496777"
      ]
     },
     "execution_count": 3,
     "metadata": {},
     "output_type": "execute_result"
    }
   ],
   "source": [
    "f1 = lambda x: x**4 * (1 - x)**4/(1 + x**2)\n",
    "\n",
    "quad(f1, 0, 1)\n",
    "22/7 - np.pi"
   ]
  },
  {
   "cell_type": "code",
   "execution_count": 4,
   "id": "371909ce-2c51-4d4b-8e1c-61873c643fa8",
   "metadata": {},
   "outputs": [
    {
     "name": "stderr",
     "output_type": "stream",
     "text": [
      "C:\\Users\\Denchik\\AppData\\Local\\Temp\\ipykernel_7696\\1513370999.py:1: RuntimeWarning: overflow encountered in exp\n",
      "  f2 = lambda x: x**3/(np.exp(x) - 1)\n"
     ]
    },
    {
     "data": {
      "text/plain": [
       "6.493939402266828"
      ]
     },
     "execution_count": 4,
     "metadata": {},
     "output_type": "execute_result"
    }
   ],
   "source": [
    "f2 = lambda x: x**3/(np.exp(x) - 1)\n",
    "\n",
    "quad(f2, 0, np.inf)\n",
    "np.pi**4 / 15"
   ]
  },
  {
   "cell_type": "code",
   "execution_count": 5,
   "id": "8c587c16-085b-42be-a63f-7e5f98f8ca4e",
   "metadata": {},
   "outputs": [
    {
     "data": {
      "text/plain": [
       "1.2912859970626636"
      ]
     },
     "execution_count": 5,
     "metadata": {},
     "output_type": "execute_result"
    }
   ],
   "source": [
    "f3 = lambda x: x**-x\n",
    "quad(f3, 0, 1)\n",
    "n, I, TOL = 0, 0, 1.e-16\n",
    "while True:\n",
    "    Iold = I\n",
    "    n += 1\n",
    "    I += n**-n\n",
    "    if I-Iold < TOL:\n",
    "        break\n",
    "I"
   ]
  },
  {
   "cell_type": "code",
   "execution_count": 4,
   "id": "468c9c7b-9393-41fd-97ff-222b7f2e6f12",
   "metadata": {},
   "outputs": [
    {
     "ename": "ImportError",
     "evalue": "cannot import name 'factorial' from 'scipy.misc' (C:\\Users\\Denchik\\AppData\\Local\\Programs\\Python\\Python312\\Lib\\site-packages\\scipy\\misc\\__init__.py)",
     "output_type": "error",
     "traceback": [
      "\u001b[1;31m---------------------------------------------------------------------------\u001b[0m",
      "\u001b[1;31mImportError\u001b[0m                               Traceback (most recent call last)",
      "Cell \u001b[1;32mIn[4], line 1\u001b[0m\n\u001b[1;32m----> 1\u001b[0m \u001b[38;5;28;01mfrom\u001b[39;00m \u001b[38;5;21;01mscipy\u001b[39;00m\u001b[38;5;21;01m.\u001b[39;00m\u001b[38;5;21;01mmisc\u001b[39;00m \u001b[38;5;28;01mimport\u001b[39;00m factorial\n\u001b[0;32m      2\u001b[0m f4 \u001b[38;5;241m=\u001b[39m \u001b[38;5;28;01mlambda\u001b[39;00m x, p: np\u001b[38;5;241m.\u001b[39mlog(\u001b[38;5;241m1\u001b[39m\u001b[38;5;241m/\u001b[39mx)\u001b[38;5;241m*\u001b[39m\u001b[38;5;241m*\u001b[39mp\n\u001b[0;32m      3\u001b[0m \u001b[38;5;28;01mfor\u001b[39;00m p \u001b[38;5;129;01min\u001b[39;00m \u001b[38;5;28mrange\u001b[39m(\u001b[38;5;241m10\u001b[39m):\n",
      "\u001b[1;31mImportError\u001b[0m: cannot import name 'factorial' from 'scipy.misc' (C:\\Users\\Denchik\\AppData\\Local\\Programs\\Python\\Python312\\Lib\\site-packages\\scipy\\misc\\__init__.py)"
     ]
    }
   ],
   "source": [
    "from scipy.misc import factorial\n",
    "f4 = lambda x, p: np.log(1/x)**p\n",
    "for p in range(10):\n",
    "    print(quad(f4, 0, 1, args=(p,))[0], factorial(p))"
   ]
  },
  {
   "cell_type": "code",
   "execution_count": 8,
   "id": "02d37184-d357-4e80-9d39-bcdff11cb6c6",
   "metadata": {},
   "outputs": [
    {
     "data": {
      "text/plain": [
       "np.float64(3.4796610037801656e-12)"
      ]
     },
     "execution_count": 8,
     "metadata": {},
     "output_type": "execute_result"
    }
   ],
   "source": [
    "from scipy.special import i0\n",
    "z = np.linspace(0,2,100)\n",
    "y1 = i0(z)\n",
    "f5 = lambda theta, z: np.exp(z*np.cos(theta))\n",
    "y2 = np.array([quad(f5, 0, 2*np.pi, args=(zz,))[0] for zz in z])\n",
    "y2 /= 2 * np.pi\n",
    "np.max(abs(y2-y1))"
   ]
  }
 ],
 "metadata": {
  "kernelspec": {
   "display_name": "Python 3 (ipykernel)",
   "language": "python",
   "name": "python3"
  },
  "language_info": {
   "codemirror_mode": {
    "name": "ipython",
    "version": 3
   },
   "file_extension": ".py",
   "mimetype": "text/x-python",
   "name": "python",
   "nbconvert_exporter": "python",
   "pygments_lexer": "ipython3",
   "version": "3.12.6"
  }
 },
 "nbformat": 4,
 "nbformat_minor": 5
}
